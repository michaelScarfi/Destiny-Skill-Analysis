{
 "cells": [
  {
   "cell_type": "markdown",
   "metadata": {},
   "source": [
    "# Analysis of Player performance in regards to chance of victory."
   ]
  },
  {
   "cell_type": "markdown",
   "metadata": {},
   "source": [
    "First, our import statements"
   ]
  },
  {
   "cell_type": "code",
   "execution_count": 1,
   "metadata": {},
   "outputs": [],
   "source": [
    "from dotenv import load_dotenv\n",
    "import requests\n",
    "import os\n",
    "import json\n",
    "import mysql.connector\n",
    "import numpy as np\n",
    "import pandas as pd\n",
    "from math import sqrt\n",
    "import matplotlib.pyplot as plt\n",
    "%matplotlib inline"
   ]
  },
  {
   "cell_type": "markdown",
   "metadata": {},
   "source": [
    "Next, lets setup our DB connection using a .env file."
   ]
  },
  {
   "cell_type": "code",
   "execution_count": 2,
   "metadata": {},
   "outputs": [],
   "source": [
    "%load_ext dotenv\n",
    "%dotenv\n",
    "\n",
    "mydb = mysql.connector.connect(\n",
    "    host = os.getenv('CRUC_DB_HOST'),\n",
    "    user = os.getenv('CRUC_DB_USER'),\n",
    "    passwd = os.getenv('CRUC_DB_PASSWD'),\n",
    "    database = os.getenv('CRUC_DATABASE'),\n",
    "    auth_plugin='mysql_native_password',\n",
    "    pool_name='crucible_pool',\n",
    "    pool_size=5\n",
    ")\n",
    "mycursor = mydb.cursor()"
   ]
  },
  {
   "cell_type": "markdown",
   "metadata": {},
   "source": [
    "Now, let's grab the data and store it in a dataframe.  Since there are 6 people per game this dataset covers over 300 games."
   ]
  },
  {
   "cell_type": "code",
   "execution_count": 3,
   "metadata": {},
   "outputs": [
    {
     "data": {
      "text/html": [
       "<div>\n",
       "<style scoped>\n",
       "    .dataframe tbody tr th:only-of-type {\n",
       "        vertical-align: middle;\n",
       "    }\n",
       "\n",
       "    .dataframe tbody tr th {\n",
       "        vertical-align: top;\n",
       "    }\n",
       "\n",
       "    .dataframe thead th {\n",
       "        text-align: right;\n",
       "    }\n",
       "</style>\n",
       "<table border=\"1\" class=\"dataframe\">\n",
       "  <thead>\n",
       "    <tr style=\"text-align: right;\">\n",
       "      <th></th>\n",
       "      <th>kills</th>\n",
       "      <th>deaths</th>\n",
       "      <th>assists</th>\n",
       "      <th>duration</th>\n",
       "      <th>completed</th>\n",
       "      <th>standing</th>\n",
       "    </tr>\n",
       "  </thead>\n",
       "  <tbody>\n",
       "    <tr>\n",
       "      <th>0</th>\n",
       "      <td>16</td>\n",
       "      <td>11</td>\n",
       "      <td>1</td>\n",
       "      <td>754</td>\n",
       "      <td>1</td>\n",
       "      <td>1</td>\n",
       "    </tr>\n",
       "    <tr>\n",
       "      <th>1</th>\n",
       "      <td>9</td>\n",
       "      <td>14</td>\n",
       "      <td>4</td>\n",
       "      <td>754</td>\n",
       "      <td>1</td>\n",
       "      <td>0</td>\n",
       "    </tr>\n",
       "    <tr>\n",
       "      <th>2</th>\n",
       "      <td>12</td>\n",
       "      <td>11</td>\n",
       "      <td>1</td>\n",
       "      <td>754</td>\n",
       "      <td>1</td>\n",
       "      <td>0</td>\n",
       "    </tr>\n",
       "    <tr>\n",
       "      <th>3</th>\n",
       "      <td>8</td>\n",
       "      <td>13</td>\n",
       "      <td>6</td>\n",
       "      <td>754</td>\n",
       "      <td>1</td>\n",
       "      <td>1</td>\n",
       "    </tr>\n",
       "    <tr>\n",
       "      <th>4</th>\n",
       "      <td>19</td>\n",
       "      <td>13</td>\n",
       "      <td>2</td>\n",
       "      <td>754</td>\n",
       "      <td>1</td>\n",
       "      <td>0</td>\n",
       "    </tr>\n",
       "  </tbody>\n",
       "</table>\n",
       "</div>"
      ],
      "text/plain": [
       "   kills  deaths  assists  duration  completed  standing\n",
       "0     16      11        1       754          1         1\n",
       "1      9      14        4       754          1         0\n",
       "2     12      11        1       754          1         0\n",
       "3      8      13        6       754          1         1\n",
       "4     19      13        2       754          1         0"
      ]
     },
     "execution_count": 3,
     "metadata": {},
     "output_type": "execute_result"
    }
   ],
   "source": [
    "# get first 1000 rows from DB.\n",
    "sql = f'SELECT `kills`, `deaths`, `assists`, `duration`, `completed`, `standing` FROM `survival_matches` ORDER BY `period` LIMIT 2000;'\n",
    "mycursor.execute(sql)\n",
    "sqlreturn = mycursor.fetchall()\n",
    "mydb.close()\n",
    "\n",
    "# convert to DF \n",
    "df = pd.DataFrame(sqlreturn, columns = ['kills', 'deaths', 'assists', 'duration', 'completed', 'standing'])\n",
    "df.head()"
   ]
  },
  {
   "cell_type": "markdown",
   "metadata": {},
   "source": [
    "We need to remove outliers where completed does not equal 1 (completed) and where standing does not equal 0 or 1 (win/loss).  Let's also drop any data where a player has no kills or deaths.  After this, we can drop the completed column as it is no longer needed."
   ]
  },
  {
   "cell_type": "code",
   "execution_count": 4,
   "metadata": {},
   "outputs": [],
   "source": [
    "df = df[df.completed == 1]\n",
    "df = df[df.standing != 3]\n",
    "df = df[(df.kills != 0) & (df.deaths != 0)]\n",
    "df = df.drop(['completed'], 1)\n",
    "df = df.reset_index(drop=True)"
   ]
  },
  {
   "cell_type": "markdown",
   "metadata": {},
   "source": [
    "Now let's create a second df to analyse each stat per minute"
   ]
  },
  {
   "cell_type": "code",
   "execution_count": 5,
   "metadata": {},
   "outputs": [
    {
     "data": {
      "text/html": [
       "<div>\n",
       "<style scoped>\n",
       "    .dataframe tbody tr th:only-of-type {\n",
       "        vertical-align: middle;\n",
       "    }\n",
       "\n",
       "    .dataframe tbody tr th {\n",
       "        vertical-align: top;\n",
       "    }\n",
       "\n",
       "    .dataframe thead th {\n",
       "        text-align: right;\n",
       "    }\n",
       "</style>\n",
       "<table border=\"1\" class=\"dataframe\">\n",
       "  <thead>\n",
       "    <tr style=\"text-align: right;\">\n",
       "      <th></th>\n",
       "      <th>kills</th>\n",
       "      <th>deaths</th>\n",
       "      <th>assists</th>\n",
       "      <th>duration</th>\n",
       "      <th>standing</th>\n",
       "    </tr>\n",
       "  </thead>\n",
       "  <tbody>\n",
       "    <tr>\n",
       "      <th>0</th>\n",
       "      <td>1.273210</td>\n",
       "      <td>0.875332</td>\n",
       "      <td>0.079576</td>\n",
       "      <td>754</td>\n",
       "      <td>1</td>\n",
       "    </tr>\n",
       "    <tr>\n",
       "      <th>1</th>\n",
       "      <td>0.716180</td>\n",
       "      <td>1.114058</td>\n",
       "      <td>0.318302</td>\n",
       "      <td>754</td>\n",
       "      <td>0</td>\n",
       "    </tr>\n",
       "    <tr>\n",
       "      <th>2</th>\n",
       "      <td>0.954907</td>\n",
       "      <td>0.875332</td>\n",
       "      <td>0.079576</td>\n",
       "      <td>754</td>\n",
       "      <td>0</td>\n",
       "    </tr>\n",
       "    <tr>\n",
       "      <th>3</th>\n",
       "      <td>0.636605</td>\n",
       "      <td>1.034483</td>\n",
       "      <td>0.477454</td>\n",
       "      <td>754</td>\n",
       "      <td>1</td>\n",
       "    </tr>\n",
       "    <tr>\n",
       "      <th>4</th>\n",
       "      <td>1.511936</td>\n",
       "      <td>1.034483</td>\n",
       "      <td>0.159151</td>\n",
       "      <td>754</td>\n",
       "      <td>0</td>\n",
       "    </tr>\n",
       "  </tbody>\n",
       "</table>\n",
       "</div>"
      ],
      "text/plain": [
       "      kills    deaths   assists  duration  standing\n",
       "0  1.273210  0.875332  0.079576       754         1\n",
       "1  0.716180  1.114058  0.318302       754         0\n",
       "2  0.954907  0.875332  0.079576       754         0\n",
       "3  0.636605  1.034483  0.477454       754         1\n",
       "4  1.511936  1.034483  0.159151       754         0"
      ]
     },
     "execution_count": 5,
     "metadata": {},
     "output_type": "execute_result"
    }
   ],
   "source": [
    "minutes_df = df.copy()\n",
    "minutes_df['kills'] = minutes_df['kills']/(minutes_df['duration']/60)\n",
    "minutes_df['assists'] = minutes_df['assists']/(minutes_df['duration']/60)\n",
    "minutes_df['deaths'] = minutes_df['deaths']/(minutes_df['duration']/60)\n",
    "minutes_df.head()"
   ]
  },
  {
   "cell_type": "markdown",
   "metadata": {},
   "source": [
    "Now, we need to remove the duration column from both dfs."
   ]
  },
  {
   "cell_type": "code",
   "execution_count": 6,
   "metadata": {},
   "outputs": [],
   "source": [
    "df = df.drop(['duration'], 1)\n",
    "minutes_df = minutes_df.drop(['duration'], 1)"
   ]
  },
  {
   "cell_type": "markdown",
   "metadata": {},
   "source": [
    "Let's visualize kills and assists vs wins (blue)"
   ]
  },
  {
   "cell_type": "code",
   "execution_count": 27,
   "metadata": {},
   "outputs": [
    {
     "data": {
      "image/png": "[encoded data removed]",
      "text/plain": [
       "<Figure size 432x288 with 1 Axes>"
      ]
     },
     "metadata": {
      "needs_background": "light"
     },
     "output_type": "display_data"
    }
   ],
   "source": [
    "col = np.where(df.standing==0,'b','r')\n",
    "plt.scatter(df.kills, df.assists,  color=col, alpha=0.2,s = 110, marker = 's')\n",
    "plt.axis('equal')\n",
    "plt.xlabel(\"Player Kills per match\")\n",
    "plt.ylabel(\"Player Assists per match\")\n",
    "plt.show()"
   ]
  },
  {
   "cell_type": "markdown",
   "metadata": {},
   "source": [
    "Now, let's look at the per minute data"
   ]
  },
  {
   "cell_type": "code",
   "execution_count": 28,
   "metadata": {},
   "outputs": [
    {
     "data": {
      "image/png": "[encoded data removed]",
      "text/plain": [
       "<Figure size 432x288 with 1 Axes>"
      ]
     },
     "metadata": {
      "needs_background": "light"
     },
     "output_type": "display_data"
    }
   ],
   "source": [
    "plt.scatter(minutes_df.kills, minutes_df.assists,  color=col, alpha=0.3)\n",
    "plt.xlabel(\"Player Kills per minute\")\n",
    "plt.ylabel(\"Player Assists per minute\")\n",
    "plt.axis('equal')\n",
    "plt.show()"
   ]
  },
  {
   "cell_type": "markdown",
   "metadata": {},
   "source": [
    "## Create and Test Both Models"
   ]
  },
  {
   "cell_type": "code",
   "execution_count": 30,
   "metadata": {},
   "outputs": [],
   "source": [
    "X = np.asarray(df[['kills','deaths','assists']])\n",
    "X_min = np.asarray(minutes_df[['kills','deaths','assists']])\n",
    "y = np.asarray(df['standing'])"
   ]
  },
  {
   "cell_type": "code",
   "execution_count": 31,
   "metadata": {},
   "outputs": [
    {
     "name": "stdout",
     "output_type": "stream",
     "text": [
      "Train set: (1500, 3) (1500,)\n",
      "Test set: (376, 3) (376,)\n"
     ]
    }
   ],
   "source": [
    "from sklearn.model_selection import train_test_split\n",
    "X_train, X_test, y_train, y_test = train_test_split( X, y, test_size=0.2, random_state=4)\n",
    "X_train_min, X_test_min, y_train, y_test = train_test_split( X_min, y, test_size=0.2, random_state=4)\n",
    "print ('Train set:', X_train.shape,  y_train.shape)\n",
    "print ('Test set:', X_test.shape,  y_test.shape)"
   ]
  },
  {
   "cell_type": "markdown",
   "metadata": {},
   "source": [
    "Now, we need to create and train our models"
   ]
  },
  {
   "cell_type": "code",
   "execution_count": 48,
   "metadata": {},
   "outputs": [],
   "source": [
    "from sklearn.linear_model import LogisticRegression\n",
    "from sklearn.metrics import confusion_matrix\n",
    "model = LogisticRegression(C=0.05, solver='liblinear').fit(X_train,y_train)\n",
    "minute_model = LogisticRegression(C=0.18, solver='liblinear').fit(X_train_min,y_train)"
   ]
  },
  {
   "cell_type": "markdown",
   "metadata": {},
   "source": [
    "Now, we can create two lists with predicted outcome and probability of outcome"
   ]
  },
  {
   "cell_type": "code",
   "execution_count": 49,
   "metadata": {},
   "outputs": [],
   "source": [
    "yhat = model.predict(X_test)\n",
    "yhat_prob = model.predict_proba(X_test)\n",
    "\n",
    "yhat_min = minute_model.predict(X_test_min)\n",
    "yhat_prob_min = minute_model.predict_proba(X_test_min)"
   ]
  },
  {
   "cell_type": "markdown",
   "metadata": {},
   "source": [
    "Let's check the Jaccard index for accuracy"
   ]
  },
  {
   "cell_type": "code",
   "execution_count": 50,
   "metadata": {},
   "outputs": [
    {
     "name": "stdout",
     "output_type": "stream",
     "text": [
      "Jaccard for per game: 0.6832579185520362\n",
      "Jaccard for per minute: 0.6666666666666666\n"
     ]
    }
   ],
   "source": [
    "from sklearn.metrics import jaccard_score\n",
    "print(f'Jaccard for per game: {jaccard_score(y_test, yhat)}')\n",
    "print(f'Jaccard for per minute: {jaccard_score(y_test, yhat_min)}')"
   ]
  },
  {
   "cell_type": "code",
   "execution_count": 51,
   "metadata": {},
   "outputs": [
    {
     "name": "stdout",
     "output_type": "stream",
     "text": [
      "Log Loss for per game: 0.4271724397243174\n",
      "Log Loss for per minute: 0.4250179154135514\n"
     ]
    }
   ],
   "source": [
    "from sklearn.metrics import log_loss\n",
    "\n",
    "# calculate log loss\n",
    "print(f'Log Loss for per game: {log_loss(y_test, yhat_prob)}')\n",
    "print(f'Log Loss for per minute: {log_loss(y_test, yhat_prob_min)}')"
   ]
  },
  {
   "cell_type": "code",
   "execution_count": 52,
   "metadata": {},
   "outputs": [
    {
     "name": "stdout",
     "output_type": "stream",
     "text": [
      "              precision    recall  f1-score   support\n",
      "\n",
      "           0       0.85      0.78      0.82       198\n",
      "           1       0.78      0.85      0.81       178\n",
      "\n",
      "    accuracy                           0.81       376\n",
      "   macro avg       0.81      0.82      0.81       376\n",
      "weighted avg       0.82      0.81      0.81       376\n",
      "\n"
     ]
    }
   ],
   "source": [
    "from sklearn.metrics import classification_report\n",
    "print (classification_report(y_test, yhat))"
   ]
  },
  {
   "cell_type": "code",
   "execution_count": 53,
   "metadata": {},
   "outputs": [
    {
     "name": "stdout",
     "output_type": "stream",
     "text": [
      "              precision    recall  f1-score   support\n",
      "\n",
      "           0       0.82      0.81      0.82       198\n",
      "           1       0.79      0.81      0.80       178\n",
      "\n",
      "    accuracy                           0.81       376\n",
      "   macro avg       0.81      0.81      0.81       376\n",
      "weighted avg       0.81      0.81      0.81       376\n",
      "\n"
     ]
    }
   ],
   "source": [
    "from sklearn.metrics import classification_report\n",
    "print (classification_report(y_test, yhat_min))"
   ]
  },
  {
   "cell_type": "code",
   "execution_count": 54,
   "metadata": {},
   "outputs": [
    {
     "name": "stdout",
     "output_type": "stream",
     "text": [
      "         0         0\n",
      "0    kills -0.211924\n",
      "1   deaths  0.397177\n",
      "2  assists -0.408574\n"
     ]
    }
   ],
   "source": [
    "cdf = pd.concat([pd.DataFrame(['kills','deaths','assists']),pd.DataFrame(np.transpose(model.coef_))], axis = 1)\n",
    "print(cdf)"
   ]
  },
  {
   "cell_type": "code",
   "execution_count": 55,
   "metadata": {},
   "outputs": [
    {
     "name": "stdout",
     "output_type": "stream",
     "text": [
      "         0         0\n",
      "0    kills -1.671688\n",
      "1   deaths  3.499760\n",
      "2  assists -2.208698\n"
     ]
    }
   ],
   "source": [
    "cdf = pd.concat([pd.DataFrame(['kills','deaths','assists']),pd.DataFrame(np.transpose(minute_model.coef_))], axis = 1)\n",
    "print(cdf)"
   ]
  },
  {
   "cell_type": "code",
   "execution_count": 56,
   "metadata": {},
   "outputs": [
    {
     "name": "stdout",
     "output_type": "stream",
     "text": [
      "0.8118279569892473\n"
     ]
    }
   ],
   "source": [
    "from sklearn.metrics import f1_score\n",
    "print(f1_score(y_test, yhat))"
   ]
  },
  {
   "cell_type": "code",
   "execution_count": null,
   "metadata": {},
   "outputs": [],
   "source": []
  }
 ],
 "metadata": {
  "kernelspec": {
   "display_name": "Python 3.8.2 32-bit",
   "language": "python",
   "name": "python38232bit2dfdabf494e949818a8541fa6e8990b0"
  },
  "language_info": {
   "codemirror_mode": {
    "name": "ipython",
    "version": 3
   },
   "file_extension": ".py",
   "mimetype": "text/x-python",
   "name": "python",
   "nbconvert_exporter": "python",
   "pygments_lexer": "ipython3",
   "version": "3.8.2"
  }
 },
 "nbformat": 4,
 "nbformat_minor": 4
}
